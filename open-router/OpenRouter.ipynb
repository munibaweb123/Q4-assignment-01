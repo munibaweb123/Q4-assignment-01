{
  "nbformat": 4,
  "nbformat_minor": 0,
  "metadata": {
    "colab": {
      "provenance": []
    },
    "kernelspec": {
      "name": "python3",
      "display_name": "Python 3"
    },
    "language_info": {
      "name": "python"
    }
  },
  "cells": [
    {
      "cell_type": "code",
      "execution_count": 1,
      "metadata": {
        "colab": {
          "base_uri": "https://localhost:8080/"
        },
        "id": "MotR-z43Phhu",
        "outputId": "83141c66-4332-47ed-aed8-c8a8b3d1003f"
      },
      "outputs": [
        {
          "output_type": "stream",
          "name": "stdout",
          "text": [
            "\u001b[?25l   \u001b[90m━━━━━━━━━━━━━━━━━━━━━━━━━━━━━━━━━━━━━━━━\u001b[0m \u001b[32m0.0/120.2 kB\u001b[0m \u001b[31m?\u001b[0m eta \u001b[36m-:--:--\u001b[0m\r\u001b[2K   \u001b[90m━━━━━━━━━━━━━━━━━━━━━━━━━━━━━━━━━━━━━━━━\u001b[0m \u001b[32m120.2/120.2 kB\u001b[0m \u001b[31m6.2 MB/s\u001b[0m eta \u001b[36m0:00:00\u001b[0m\n",
            "\u001b[?25h\u001b[?25l   \u001b[90m━━━━━━━━━━━━━━━━━━━━━━━━━━━━━━━━━━━━━━━━\u001b[0m \u001b[32m0.0/129.3 kB\u001b[0m \u001b[31m?\u001b[0m eta \u001b[36m-:--:--\u001b[0m\r\u001b[2K   \u001b[90m━━━━━━━━━━━━━━━━━━━━━━━━━━━━━━━━━━━━━━━━\u001b[0m \u001b[32m129.3/129.3 kB\u001b[0m \u001b[31m8.4 MB/s\u001b[0m eta \u001b[36m0:00:00\u001b[0m\n",
            "\u001b[?25h\u001b[?25l   \u001b[90m━━━━━━━━━━━━━━━━━━━━━━━━━━━━━━━━━━━━━━━━\u001b[0m \u001b[32m0.0/130.3 kB\u001b[0m \u001b[31m?\u001b[0m eta \u001b[36m-:--:--\u001b[0m\r\u001b[2K   \u001b[90m━━━━━━━━━━━━━━━━━━━━━━━━━━━━━━━━━━━━━━━━\u001b[0m \u001b[32m130.3/130.3 kB\u001b[0m \u001b[31m7.8 MB/s\u001b[0m eta \u001b[36m0:00:00\u001b[0m\n",
            "\u001b[?25h\u001b[?25l   \u001b[90m━━━━━━━━━━━━━━━━━━━━━━━━━━━━━━━━━━━━━━━━\u001b[0m \u001b[32m0.0/44.4 kB\u001b[0m \u001b[31m?\u001b[0m eta \u001b[36m-:--:--\u001b[0m\r\u001b[2K   \u001b[90m━━━━━━━━━━━━━━━━━━━━━━━━━━━━━━━━━━━━━━━━\u001b[0m \u001b[32m44.4/44.4 kB\u001b[0m \u001b[31m2.5 MB/s\u001b[0m eta \u001b[36m0:00:00\u001b[0m\n",
            "\u001b[2K   \u001b[90m━━━━━━━━━━━━━━━━━━━━━━━━━━━━━━━━━━━━━━━━\u001b[0m \u001b[32m72.0/72.0 kB\u001b[0m \u001b[31m4.7 MB/s\u001b[0m eta \u001b[36m0:00:00\u001b[0m\n",
            "\u001b[2K   \u001b[90m━━━━━━━━━━━━━━━━━━━━━━━━━━━━━━━━━━━━━━━━\u001b[0m \u001b[32m62.5/62.5 kB\u001b[0m \u001b[31m2.8 MB/s\u001b[0m eta \u001b[36m0:00:00\u001b[0m\n",
            "\u001b[?25h"
          ]
        }
      ],
      "source": [
        "\n",
        "!pip install -Uq openai-agents"
      ]
    },
    {
      "cell_type": "markdown",
      "source": [
        "# **Install OpenAI Agents Dep.**"
      ],
      "metadata": {
        "id": "wUAfeasYQIro"
      }
    },
    {
      "cell_type": "code",
      "source": [
        "import nest_asyncio\n",
        "nest_asyncio.apply()"
      ],
      "metadata": {
        "id": "gb-YSQg_QCIj"
      },
      "execution_count": 15,
      "outputs": []
    },
    {
      "cell_type": "markdown",
      "source": [
        "# **Provider Config**"
      ],
      "metadata": {
        "id": "gMRqy2kHQWNx"
      }
    },
    {
      "cell_type": "code",
      "source": [
        "from google.colab import userdata\n",
        "\n",
        "OPENROUTER_API_KEY = userdata.get(\"OPENROUTER_API_KEY\")"
      ],
      "metadata": {
        "id": "DvIIKT50QaFb"
      },
      "execution_count": 16,
      "outputs": []
    },
    {
      "cell_type": "code",
      "source": [
        "#Reference: https://openrouter.ai/docs/quickstart\n",
        "\n",
        "BASE_URL = \"https://openrouter.ai/api/v1\"\n",
        "MODEL = \"google/gemini-2.0-flash-001\"\n",
        "# MODEL = \"deepseek/deepseek-chat\"\n",
        "\n",
        "# Some other free models on 26th March:\n",
        "# https://openrouter.ai/deepseek/deepseek-chat-v3-0324:free\n",
        "# https://openrouter.ai/google/gemini-2.5-pro-exp-03-25:free"
      ],
      "metadata": {
        "id": "eHvud5y6RVgp"
      },
      "execution_count": 21,
      "outputs": []
    },
    {
      "cell_type": "markdown",
      "source": [
        "# **1. Using the OpenRouter API directly**"
      ],
      "metadata": {
        "id": "zJqK8pt-RbYa"
      }
    },
    {
      "cell_type": "code",
      "source": [
        "import requests\n",
        "import json\n",
        "\n",
        "response = requests.post(\n",
        "  url=f\"{BASE_URL}/chat/completions\",\n",
        "  headers={\n",
        "    \"Authorization\": f\"Bearer {OPENROUTER_API_KEY}\",\n",
        "  },\n",
        "  data=json.dumps({\n",
        "    \"model\": MODEL,\n",
        "    \"messages\": [\n",
        "      {\n",
        "        \"role\": \"user\",\n",
        "        \"content\": \"What is the meaning of life?\"\n",
        "      }\n",
        "    ]\n",
        "  })\n",
        ")\n",
        "\n",
        "print(response.json())"
      ],
      "metadata": {
        "colab": {
          "base_uri": "https://localhost:8080/"
        },
        "id": "WxNMPqRyRa62",
        "outputId": "e74e3b0c-b3f8-4623-ec42-3dce2ee35847"
      },
      "execution_count": 22,
      "outputs": [
        {
          "output_type": "stream",
          "name": "stdout",
          "text": [
            "{'id': 'gen-1748460333-Zuickb01IAe58cqjM7G0', 'provider': 'Google AI Studio', 'model': 'google/gemini-2.0-flash-001', 'object': 'chat.completion', 'created': 1748460333, 'choices': [{'logprobs': None, 'finish_reason': 'stop', 'native_finish_reason': 'STOP', 'index': 0, 'message': {'role': 'assistant', 'content': \"Ah, the million-dollar question! The meaning of life is arguably the *most* pondered question in human history. And the interesting thing is, there's no single, universally accepted answer. It's a deeply personal and philosophical question, and the answer often depends on your beliefs, values, and experiences.\\n\\nHere's a breakdown of some common perspectives on the meaning of life:\\n\\n**1. Nihilism:**\\n\\n*   **Core Idea:** Life is inherently meaningless. There is no objective purpose or value to existence.\\n*   **Implications:** This can be liberating or depressing, depending on your perspective. Some nihilists embrace the freedom to create their own meaning, while others find it paralyzing.\\n\\n**2. Existentialism:**\\n\\n*   **Core Idea:** Life has no inherent meaning, but we are free to create our own meaning through our choices and actions. We are responsible for defining our own essence.\\n*   **Implications:** This emphasizes individual freedom, responsibility, and the importance of living authentically.\\n\\n**3. Absurdism:**\\n\\n*   **Core Idea:** The search for meaning in a meaningless universe is inherently absurd. We should embrace this absurdity and rebel against it by living passionately and authentically.\\n*   **Implications:** Finding joy and meaning in the face of the absurd requires conscious effort and a commitment to personal values.\\n\\n**4. Hedonism:**\\n\\n*   **Core Idea:** The pursuit of pleasure and avoidance of pain is the ultimate goal and the meaning of life.\\n*   **Implications:** This can be interpreted in different ways, from seeking simple pleasures to pursuing more profound and fulfilling experiences.\\n\\n**5. Purpose-Driven Life (often religious):**\\n\\n*   **Core Idea:** Life's meaning is found in fulfilling a purpose defined by a higher power or divine plan.\\n*   **Implications:** This provides a sense of direction and belonging, but may require faith and adherence to specific beliefs.\\n\\n**6. Meaning Through Relationships and Connection:**\\n\\n*   **Core Idea:** The meaning of life is found in our connections with others – family, friends, community.\\n*   **Implications:** This emphasizes empathy, compassion, and the importance of contributing to something larger than oneself.\\n\\n**7. Meaning Through Contribution and Legacy:**\\n\\n*   **Core Idea:** Life's meaning is found in making a positive impact on the world and leaving a lasting legacy.\\n*   **Implications:** This can involve pursuing a meaningful career, volunteering, creating art, or raising a family.\\n\\n**8. Meaning Through Growth and Learning:**\\n\\n*   **Core Idea:** The meaning of life is found in the continuous pursuit of knowledge, personal growth, and self-improvement.\\n*   **Implications:** This emphasizes curiosity, open-mindedness, and a willingness to learn from experiences.\\n\\n**9. Stoicism:**\\n\\n*   **Core Idea:**  Finding meaning and happiness through virtue, reason, and acceptance of what we cannot control. Focusing on what we *can* control, like our thoughts and actions, and living in accordance with nature.\\n*   **Implications:** Provides a framework for navigating challenges with resilience and finding contentment regardless of external circumstances.\\n\\n**10.  Living in the Moment:**\\n\\n*   **Core Idea:**  Focusing on appreciating the present moment and finding joy in the simple things.  Being mindful and fully engaged in each experience.\\n*   **Implications:** Reduces anxiety about the future and regrets about the past, leading to a more fulfilling and present-centered life.\\n\\n**So, what's *your* meaning of life?**\\n\\nInstead of searching for a single, definitive answer, consider these questions:\\n\\n*   What brings you joy and fulfillment?\\n*   What are your values?\\n*   What impact do you want to have on the world?\\n*   What are you passionate about?\\n*   What kind of person do you want to be?\\n\\nYour answers to these questions will help you define your own personal meaning of life. It's an ongoing process of discovery and creation.  The beauty is that you get to define it!  Good luck on your journey!\\n\", 'refusal': None, 'reasoning': None}}], 'usage': {'prompt_tokens': 7, 'completion_tokens': 864, 'total_tokens': 871}}\n"
          ]
        }
      ]
    },
    {
      "cell_type": "code",
      "source": [
        "data = response.json()\n",
        "data['choices'][0]['message']['content']\n",
        ""
      ],
      "metadata": {
        "colab": {
          "base_uri": "https://localhost:8080/",
          "height": 123
        },
        "id": "yI6mJsSxXC9w",
        "outputId": "0467f968-4ad9-415d-d973-14e480ce8888"
      },
      "execution_count": 23,
      "outputs": [
        {
          "output_type": "execute_result",
          "data": {
            "text/plain": [
              "\"Ah, the million-dollar question! The meaning of life is arguably the *most* pondered question in human history. And the interesting thing is, there's no single, universally accepted answer. It's a deeply personal and philosophical question, and the answer often depends on your beliefs, values, and experiences.\\n\\nHere's a breakdown of some common perspectives on the meaning of life:\\n\\n**1. Nihilism:**\\n\\n*   **Core Idea:** Life is inherently meaningless. There is no objective purpose or value to existence.\\n*   **Implications:** This can be liberating or depressing, depending on your perspective. Some nihilists embrace the freedom to create their own meaning, while others find it paralyzing.\\n\\n**2. Existentialism:**\\n\\n*   **Core Idea:** Life has no inherent meaning, but we are free to create our own meaning through our choices and actions. We are responsible for defining our own essence.\\n*   **Implications:** This emphasizes individual freedom, responsibility, and the importance of living authentically.\\n\\n**3. Absurdism:**\\n\\n*   **Core Idea:** The search for meaning in a meaningless universe is inherently absurd. We should embrace this absurdity and rebel against it by living passionately and authentically.\\n*   **Implications:** Finding joy and meaning in the face of the absurd requires conscious effort and a commitment to personal values.\\n\\n**4. Hedonism:**\\n\\n*   **Core Idea:** The pursuit of pleasure and avoidance of pain is the ultimate goal and the meaning of life.\\n*   **Implications:** This can be interpreted in different ways, from seeking simple pleasures to pursuing more profound and fulfilling experiences.\\n\\n**5. Purpose-Driven Life (often religious):**\\n\\n*   **Core Idea:** Life's meaning is found in fulfilling a purpose defined by a higher power or divine plan.\\n*   **Implications:** This provides a sense of direction and belonging, but may require faith and adherence to specific beliefs.\\n\\n**6. Meaning Through Relationships and Connection:**\\n\\n*   **Core Idea:** The meaning of life is found in our connections with others – family, friends, community.\\n*   **Implications:** This emphasizes empathy, compassion, and the importance of contributing to something larger than oneself.\\n\\n**7. Meaning Through Contribution and Legacy:**\\n\\n*   **Core Idea:** Life's meaning is found in making a positive impact on the world and leaving a lasting legacy.\\n*   **Implications:** This can involve pursuing a meaningful career, volunteering, creating art, or raising a family.\\n\\n**8. Meaning Through Growth and Learning:**\\n\\n*   **Core Idea:** The meaning of life is found in the continuous pursuit of knowledge, personal growth, and self-improvement.\\n*   **Implications:** This emphasizes curiosity, open-mindedness, and a willingness to learn from experiences.\\n\\n**9. Stoicism:**\\n\\n*   **Core Idea:**  Finding meaning and happiness through virtue, reason, and acceptance of what we cannot control. Focusing on what we *can* control, like our thoughts and actions, and living in accordance with nature.\\n*   **Implications:** Provides a framework for navigating challenges with resilience and finding contentment regardless of external circumstances.\\n\\n**10.  Living in the Moment:**\\n\\n*   **Core Idea:**  Focusing on appreciating the present moment and finding joy in the simple things.  Being mindful and fully engaged in each experience.\\n*   **Implications:** Reduces anxiety about the future and regrets about the past, leading to a more fulfilling and present-centered life.\\n\\n**So, what's *your* meaning of life?**\\n\\nInstead of searching for a single, definitive answer, consider these questions:\\n\\n*   What brings you joy and fulfillment?\\n*   What are your values?\\n*   What impact do you want to have on the world?\\n*   What are you passionate about?\\n*   What kind of person do you want to be?\\n\\nYour answers to these questions will help you define your own personal meaning of life. It's an ongoing process of discovery and creation.  The beauty is that you get to define it!  Good luck on your journey!\\n\""
            ],
            "application/vnd.google.colaboratory.intrinsic+json": {
              "type": "string"
            }
          },
          "metadata": {},
          "execution_count": 23
        }
      ]
    },
    {
      "cell_type": "markdown",
      "source": [
        "# **2. Using OpenAI Agents SDK**"
      ],
      "metadata": {
        "id": "AZw7YijyXR2g"
      }
    },
    {
      "cell_type": "code",
      "source": [
        "import asyncio\n",
        "from openai import AsyncOpenAI\n",
        "from agents import Agent, OpenAIChatCompletionsModel, Runner, set_tracing_disabled\n",
        "\n",
        "client = AsyncOpenAI(\n",
        "    api_key=OPENROUTER_API_KEY,\n",
        "    base_url=BASE_URL\n",
        ")\n",
        "\n",
        "set_tracing_disabled(disabled=True)\n",
        "\n",
        "async def main():\n",
        "    # This agent will use the custom LLM provider\n",
        "    agent = Agent(\n",
        "        name=\"Assistant\",\n",
        "        instructions=\"You only respond in haikus.\",\n",
        "        model=OpenAIChatCompletionsModel(model=MODEL, openai_client=client),\n",
        "    )\n",
        "\n",
        "    result = await Runner.run(\n",
        "        agent,\n",
        "        \"Tell me about recursion in programming.\",\n",
        "    )\n",
        "    print(result.final_output)\n",
        "\n",
        "\n",
        "if __name__ == \"__main__\":\n",
        "    asyncio.run(main())"
      ],
      "metadata": {
        "colab": {
          "base_uri": "https://localhost:8080/"
        },
        "id": "ScTAVJt3XRbg",
        "outputId": "89e872d7-93f9-4a09-940b-3d4c91ae540f"
      },
      "execution_count": 24,
      "outputs": [
        {
          "output_type": "stream",
          "name": "stdout",
          "text": [
            "A function calls self,\n",
            "Solving smaller problems,\n",
            "Base case stops the flow.\n",
            "\n"
          ]
        }
      ]
    }
  ]
}